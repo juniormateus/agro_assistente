{
 "cells": [
  {
   "cell_type": "code",
   "execution_count": 2,
   "id": "b52b1cb7",
   "metadata": {},
   "outputs": [
    {
     "name": "stdout",
     "output_type": "stream",
     "text": [
      "Calagem: 0.80 t/ha\n",
      "N: 120 kg/ha\n",
      "P2O5: 80 kg/ha\n",
      "K2O: 50 kg/ha\n"
     ]
    }
   ],
   "source": [
    "from core.analise_solo import calcular_saturacao_bases, calcular_ctc\n",
    "from core.calagem import calcular_necessidade_calagem\n",
    "from core.adubacao import recomendar_n, recomendar_p, recomendar_k\n",
    "\n",
    "# Exemplo de dados do solo\n",
    "ca, mg, k, al = 1.0, 0.3, 0.1, 2.0\n",
    "p_mehlich = 8\n",
    "produtividade = 100\n",
    "prnt = 0.8  # 80%\n",
    "\n",
    "# Cultura (exemplo milho)\n",
    "n_por_produtividade = {60: 80, 100: 120, 150: 160}\n",
    "faixas_p_mehlich = [(4, 100), (10, 80), (20, 60), (30, 30), (999, 0)]\n",
    "faixas_sat_k = [(2, 100), (3, 80), (999, 50)]\n",
    "v_percent_desejado = 60\n",
    "\n",
    "v_atual = calcular_saturacao_bases(ca, mg, k, al)\n",
    "ctc = calcular_ctc(ca, mg, k, al)\n",
    "calagem = calcular_necessidade_calagem(v_percent_desejado, v_atual, ctc, prnt)\n",
    "\n",
    "n = recomendar_n(produtividade, n_por_produtividade)\n",
    "p_dose = recomendar_p(p_mehlich, faixas_p_mehlich)\n",
    "k_dose = recomendar_k(ca, mg, k, faixas_sat_k)\n",
    "\n",
    "print(f\"Calagem: {calagem:.2f} t/ha\")\n",
    "print(f\"N: {n} kg/ha\")\n",
    "print(f\"P2O5: {p_dose} kg/ha\")\n",
    "print(f\"K2O: {k_dose} kg/ha\")\n"
   ]
  },
  {
   "cell_type": "code",
   "execution_count": 6,
   "id": "9f0bc7d7",
   "metadata": {},
   "outputs": [
    {
     "name": "stdout",
     "output_type": "stream",
     "text": [
      "100\n"
     ]
    }
   ],
   "source": [
    "from core.dose_volume_cauda import volume_calda\n",
    "resultado = volume_calda(10, 10)\n",
    "print(resultado)"
   ]
  },
  {
   "cell_type": "code",
   "execution_count": 1,
   "id": "a2fa918f",
   "metadata": {},
   "outputs": [
    {
     "name": "stdout",
     "output_type": "stream",
     "text": [
      "25\n"
     ]
    }
   ],
   "source": [
    "from core.dose_volume_cauda import dose_produto\n",
    "resultado = dose_produto(5, 5)\n",
    "print(resultado)"
   ]
  },
  {
   "cell_type": "code",
   "execution_count": 2,
   "id": "6d40f071",
   "metadata": {},
   "outputs": [
    {
     "name": "stdout",
     "output_type": "stream",
     "text": [
      "200.0\n"
     ]
    }
   ],
   "source": [
    "from core.dose_volume_cauda import dose_tanque\n",
    "resultado = dose_tanque(100, 10, 5)\n",
    "print(resultado)"
   ]
  },
  {
   "cell_type": "code",
   "execution_count": 9,
   "id": "31083ece",
   "metadata": {},
   "outputs": [
    {
     "name": "stdout",
     "output_type": "stream",
     "text": [
      "111.11111111111111\n"
     ]
    }
   ],
   "source": [
    "from core.espacamento_pop_plantas import populacao_plantas\n",
    "resultado = populacao_plantas(10, 9)\n",
    "print(resultado)"
   ]
  },
  {
   "cell_type": "code",
   "execution_count": 10,
   "id": "99258253",
   "metadata": {},
   "outputs": [
    {
     "name": "stdout",
     "output_type": "stream",
     "text": [
      "50\n"
     ]
    }
   ],
   "source": [
    "from core.espacamento_pop_plantas import numero_plantas_area\n",
    "resultado = numero_plantas_area(10, 5)\n",
    "print(resultado)"
   ]
  },
  {
   "cell_type": "code",
   "execution_count": 11,
   "id": "0de5f582",
   "metadata": {},
   "outputs": [
    {
     "name": "stdout",
     "output_type": "stream",
     "text": [
      "125.0\n"
     ]
    }
   ],
   "source": [
    "from core.espacamento_pop_plantas import espacamento_plantas_populacao_desejada\n",
    "resultado3 = espacamento_plantas_populacao_desejada(10, 8)\n",
    "print(resultado3)"
   ]
  }
 ],
 "metadata": {
  "kernelspec": {
   "display_name": "venv",
   "language": "python",
   "name": "python3"
  },
  "language_info": {
   "codemirror_mode": {
    "name": "ipython",
    "version": 3
   },
   "file_extension": ".py",
   "mimetype": "text/x-python",
   "name": "python",
   "nbconvert_exporter": "python",
   "pygments_lexer": "ipython3",
   "version": "3.13.2"
  }
 },
 "nbformat": 4,
 "nbformat_minor": 5
}
